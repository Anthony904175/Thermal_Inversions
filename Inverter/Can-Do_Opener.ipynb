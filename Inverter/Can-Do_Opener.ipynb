{
 "cells": [
  {
   "cell_type": "markdown",
   "metadata": {},
   "source": [
    "# The Trusty Can-do Opener"
   ]
  },
  {
   "cell_type": "markdown",
   "metadata": {},
   "source": [
    "### Opening file from densities folder from VM"
   ]
  },
  {
   "cell_type": "code",
   "execution_count": 1,
   "metadata": {},
   "outputs": [
    {
     "name": "stdout",
     "output_type": "stream",
     "text": [
      "[[2.37918400e-09 7.59176836e-08 5.76389887e-07 ... 1.93413571e-03\n",
      "  1.94064471e-03 1.94704955e-03]\n",
      " [1.66098431e-08 3.54421399e-07 2.66195002e-06 ... 1.48473854e-02\n",
      "  1.49225441e-02 1.49967710e-02]\n",
      " [4.55958379e-08 8.36110983e-07 6.22880129e-06 ... 3.78300299e-02\n",
      "  3.80226837e-02 3.82127780e-02]\n",
      " ...\n",
      " [4.55958379e-08 8.36110983e-07 6.22880129e-06 ... 3.78300299e-02\n",
      "  3.80226837e-02 3.82127780e-02]\n",
      " [1.66098431e-08 3.54421399e-07 2.66195002e-06 ... 1.48473854e-02\n",
      "  1.49225441e-02 1.49967710e-02]\n",
      " [2.37918400e-09 7.59176836e-08 5.76389887e-07 ... 1.93413571e-03\n",
      "  1.94064471e-03 1.94704955e-03]]\n"
     ]
    }
   ],
   "source": [
    "import numpy as np \n",
    " \n",
    "# Load data from a .npy file \n",
    "data = np.load('Inversions/Inverter/Thermal_1D_soft_coulomb_2_electrons.npy') \n",
    " \n",
    "# Now you can use the 'data' variable to access the contents of the .npy file \n",
    "print(data) "
   ]
  }
 ],
 "metadata": {
  "kernelspec": {
   "display_name": "n2venv",
   "language": "python",
   "name": "python3"
  },
  "language_info": {
   "codemirror_mode": {
    "name": "ipython",
    "version": 3
   },
   "file_extension": ".py",
   "mimetype": "text/x-python",
   "name": "python",
   "nbconvert_exporter": "python",
   "pygments_lexer": "ipython3",
   "version": "3.12.3"
  }
 },
 "nbformat": 4,
 "nbformat_minor": 2
}
