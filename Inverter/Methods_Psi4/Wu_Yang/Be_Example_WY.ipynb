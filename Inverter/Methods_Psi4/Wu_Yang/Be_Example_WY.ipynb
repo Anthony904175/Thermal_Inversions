{
 "cells": [
  {
   "cell_type": "markdown",
   "id": "chronic-profession",
   "metadata": {},
   "source": [
    "## Wu-Yang Method for KS Inversion\n",
    "Please check the original paper of the Wu-Yang method: [Qin Wu, Weitao Yang, J. Chem. Phys. 118, 2498 (2003)](https://aip.scitation.org/doi/abs/10.1063/1.1535422?casa_token=caPxLNp1Jm8AAAAA:WsOECHVnX79_uiv6Gxx7DcxXcQ2QTl-_wRKNVekhXK9gIvVZ22T2oFk9_hya4Tc8C7iixmki3YceYA)."
   ]
  },
  {
   "cell_type": "code",
   "execution_count": 1,
   "id": "intense-fetish",
   "metadata": {},
   "outputs": [
    {
     "name": "stdout",
     "output_type": "stream",
     "text": [
      "\n",
      "  Memory set to   2.328 GiB by Python driver.\n"
     ]
    }
   ],
   "source": [
    "import psi4\n",
    "import matplotlib.pyplot as plt\n",
    "import numpy as np\n",
    "\n",
    "psi4.set_options({\"save_jk\" : True}) # This is currently necessary for inverter to borrow JK from input wfn.\n",
    "psi4.set_memory(int(2.50e9))\n",
    "psi4.core.clean()\n",
    "\n",
    "import n2v\n",
    "\n",
    "import matplotlib as mpl\n",
    "mpl.rcParams[\"font.size\"] = 11\n",
    "mpl.rcParams[\"font.family\"] = \"sans-serif\"\n",
    "mpl.rcParams[\"axes.edgecolor\"] = \"#eae8e9\" "
   ]
  },
  {
   "cell_type": "markdown",
   "id": "random-charleston",
   "metadata": {},
   "source": [
    "---\n",
    "### Perform target calculation with Psi4. \n",
    "Store wavefunction (wfn) object"
   ]
  },
  {
   "cell_type": "code",
   "execution_count": 2,
   "id": "narrative-conducting",
   "metadata": {},
   "outputs": [],
   "source": [
    "Be = psi4.geometry( \n",
    "\"\"\" \n",
    "0 1\n",
    "Be \n",
    "noreorient\n",
    "nocom\n",
    "units bohr\n",
    "symmetry c1\n",
    "\"\"\" )\n",
    "\n",
    "psi4.set_options({\"reference\" : \"rhf\"})  # Spin-Restricted\n",
    "\n",
    "# IMPORTANT NOTE: psi4.energy does not update cc densities. So we calculate dipole moments instead.\n",
    "wfn = psi4.properties(\"ccsd/aug-cc-pvtz\",  return_wfn=True, molecule=Be, property=['dipole'])[1]\n",
    "\n",
    "# Build inverter and set target from the wavefunction.\n",
    "inv = n2v.Inverter.from_wfn(wfn, pbs='aug-cc-pvqz')"
   ]
  },
  {
   "cell_type": "markdown",
   "id": "addressed-mistress",
   "metadata": {},
   "source": [
    "---\n",
    "### Invert! \n",
    "$$v_{Kohn-Sham}=v_{ext}+v_{guide}+v_{PBE}$$\n",
    "With the guide potential $v_{guide}=v_{Fermi-Amaldi}$ and the rest potential $v_{rest}$ on the potential basis set (pbs) \"aug-cc-pvqz\"."
   ]
  },
  {
   "cell_type": "code",
   "execution_count": 3,
   "id": "careful-maker",
   "metadata": {},
   "outputs": [
    {
     "name": "stdout",
     "output_type": "stream",
     "text": [
      "Optimization Successful within 2 iterations! |grad|=6.10e-04\n"
     ]
    }
   ],
   "source": [
    "# Inverter with WuYang method, guide potention v0=Fermi-Amaldi\n",
    "inv.invert(\"WuYang\", guide_components=\"fermi_amaldi\")"
   ]
  },
  {
   "cell_type": "markdown",
   "id": "dominant-ribbon",
   "metadata": {},
   "source": [
    "---\n",
    "### Visualization of the potentials. \n",
    "#### Since this is a 1-D system, let's first plot it alone x axis."
   ]
  },
  {
   "cell_type": "code",
   "execution_count": 4,
   "id": "framed-fireplace",
   "metadata": {},
   "outputs": [],
   "source": [
    "# Build Grid\n",
    "\n",
    "x = np.linspace(-5,5,101)\n",
    "y = np.zeros_like(x)\n",
    "z = np.zeros_like(x)\n",
    "grid = np.array([x,y,z])\n",
    "\n",
    "# Additionaly, one can use the generate grid function. \n",
    "grid2 = inv.eng.grid.generate_grid(x=x, y=[0], z=[0])[0]"
   ]
  },
  {
   "cell_type": "code",
   "execution_count": 5,
   "id": "multiple-morning",
   "metadata": {},
   "outputs": [],
   "source": [
    "# Get Hartree and Fermi-Amadli Potentials:\n",
    "\n",
    "vH = inv.eng.grid.esp(Da=inv.Dt[0], Db=inv.Dt[1], grid=grid)[1]\n",
    "vFA = (1-1/(inv.nalpha + inv.nbeta)) * vH"
   ]
  },
  {
   "cell_type": "markdown",
   "id": "dense-scratch",
   "metadata": {},
   "source": [
    "---\n",
    "Fintally, let's find the exchange-correlation potential:\n",
    "\\begin{align}\n",
    "v_{xc}\n",
    "&=v_{Kohn-Sham}-v_{Hartree}-v_{ext}\\\\\n",
    "&=v_{guide}+v_{rest}-v_{Hartree}\n",
    "\\end{align}"
   ]
  },
  {
   "cell_type": "code",
   "execution_count": 6,
   "id": "grand-justice",
   "metadata": {},
   "outputs": [],
   "source": [
    "vrest = inv.eng.grid.ao(inv.v_pbs, grid=grid, basis=inv.eng.pbs)  # Note that specify the basis set \n",
    "                                                                  # that vrest is on.\n",
    "    \n",
    "# Compute vxc according to the previous equation. \n",
    "vxc = vFA + vrest - vH"
   ]
  },
  {
   "cell_type": "code",
   "execution_count": 7,
   "id": "advised-enclosure",
   "metadata": {},
   "outputs": [
    {
     "data": {
      "text/plain": [
       "<matplotlib.legend.Legend at 0x16c3ead20>"
      ]
     },
     "execution_count": 7,
     "metadata": {},
     "output_type": "execute_result"
    },
    {
     "data": {
      "image/png": "[encoded data removed]",
      "text/plain": [
       "<Figure size 640x480 with 1 Axes>"
      ]
     },
     "metadata": {},
     "output_type": "display_data"
    }
   ],
   "source": [
    "# Plot the potential. \n",
    "fig, ax = plt.subplots()\n",
    "ax.plot(x, vxc, label=\"vxc\")\n",
    "ax.legend()"
   ]
  }
 ],
 "metadata": {
  "kernelspec": {
   "display_name": "Python 3",
   "language": "python",
   "name": "python3"
  },
  "language_info": {
   "codemirror_mode": {
    "name": "ipython",
    "version": 3
   },
   "file_extension": ".py",
   "mimetype": "text/x-python",
   "name": "python",
   "nbconvert_exporter": "python",
   "pygments_lexer": "ipython3",
   "version": "3.12.3"
  }
 },
 "nbformat": 4,
 "nbformat_minor": 5
}
