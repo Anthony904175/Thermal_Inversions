{
 "cells": [
  {
   "cell_type": "markdown",
   "id": "checked-clinic",
   "metadata": {},
   "source": [
    "###  Removal of Basis-Set Artifacts in Kohn−Sham Potentials Recovered from Electron Densities \n",
    "J. Chem. Theory Comput. 2013, 9, 3959−3964\n",
    "\n",
    "#### Introduction:\n",
    "\n",
    "Gaiduk, Ryabinkin and Staroverov investigated that, one should be able to obtain the exchange-correlation potential $v_{xc}(r)$ from a set of canonical orbitals. This could be done by manipulating the Kohn-Sham equations as:\n",
    "\n",
    "\n",
    "$$\n",
    "[-\\frac{1}{2} \\nabla^2 + v_{eff}(r)] \\phi_i(r) = \\varepsilon_i \\phi_i(r)\n",
    "$$\n",
    "\n",
    "Where $$veff = v(r) + v_{H}(r) + v_{xc}(r)$$ \n",
    "\n",
    "Obtain $v_{xc}(r)$ from:\n",
    "\n",
    "$$v_{xc}(r) = \\frac{1}{n(r)} \\sum_i^N [\\phi_i^{*} (r) \\nabla^2 \\phi_i(r) + \\varepsilon_i | \\phi_i(r)|^2] $$\n",
    "\n",
    "\n",
    "Such procedure introduces oscillations and asymptotic divergences that have origin in small oscillations in the Kohn-Sham orbitals that are amplified by the Laplacian. \n",
    "\n",
    "We can perform such an inversion in $\\textit{n2v}$. Let us see how:"
   ]
  },
  {
   "cell_type": "code",
   "execution_count": 5,
   "id": "homeless-argument",
   "metadata": {},
   "outputs": [],
   "source": [
    "#Import modules\n",
    "#import sys\n",
    "#sys.path.insert(1, \"/Users/aosborne3/Desktop/research_tutorials/n2v\")\n",
    "import n2v\n",
    "import psi4\n",
    "import matplotlib.pyplot as plt\n",
    "import numpy as np\n",
    "\n",
    "import matplotlib as mpl\n",
    "mpl.rcParams[\"font.size\"] = 11\n",
    "mpl.rcParams[\"font.family\"] = \"sans-serif\"\n",
    "mpl.rcParams[\"axes.edgecolor\"] = \"#eae8e9\" "
   ]
  },
  {
   "cell_type": "code",
   "execution_count": 6,
   "id": "attempted-platform",
   "metadata": {},
   "outputs": [],
   "source": [
    "#Set options within Psi4.\n",
    "#Saving the jk object prevents n2v to build it again. \n",
    "psi4.set_options({\"save_jk\" : True})\n",
    "\n",
    "#n2v is driven by psi4's reference option. Make sure you set it accordingly. \n",
    "psi4.set_options({\"reference\" : \"rhf\"})\n",
    "\n",
    "#Set memory and avoid inheriting options from a different calculation. \n",
    "psi4.set_memory(int(2.50e9))\n",
    "psi4.core.clean()"
   ]
  },
  {
   "cell_type": "code",
   "execution_count": 7,
   "id": "confused-literacy",
   "metadata": {},
   "outputs": [],
   "source": [
    "# Let us focus on the Neon atom.\n",
    "\n",
    "# Define Psi4 geometries. Symmetries need to be set to C1!\n",
    "Ne = psi4.geometry(\n",
    "\"\"\"\n",
    "0 1\n",
    "Ne 0.0 0.0 0.0\n",
    "noreorient\n",
    "nocom\n",
    "units bohr\n",
    "symmetry c1\n",
    "\"\"\")\n",
    "\n",
    "# Perform a DFT calculation.\n",
    "e, wfn = psi4.energy(\"svwn/cc-pvtz\", return_wfn=True, molecule=Ne)\n",
    "\n",
    "\n",
    "# Define inverter objects for each molecule. Simply use the wnf object from psi4 as an argument.\n",
    "ine = n2v.Inverter.from_wfn(wfn)\n",
    "\n",
    "# Define a grid to visualize all of the generated potentials.\n",
    "# Since we are using radially symmetric atoms, we focus on the space from the origin all the way to 10 a.u.\n",
    "npoints=10002\n",
    "x = np.linspace(0,10,npoints)[:,None]\n",
    "y = np.zeros_like(x)\n",
    "z = y\n",
    "grid = np.concatenate((x,y,z), axis=1).T"
   ]
  },
  {
   "cell_type": "code",
   "execution_count": null,
   "id": "6bd6e39e",
   "metadata": {},
   "outputs": [],
   "source": [
    "#let us invert the kohn-sham equations:\n",
    "vxc_inverted = ine.invert('direct', grid=grid, correction=False)"
   ]
  },
  {
   "cell_type": "code",
   "execution_count": null,
   "id": "regular-consolidation",
   "metadata": {},
   "outputs": [],
   "source": [
    "#Compare the performance of direct and reversed calculation of vxc. \n",
    "vxc0 = ine.eng.grid.vxc(Da=wfn.Da().np, Db=wfn.Db().np, grid=grid)\n",
    "\n",
    "#---------------> Plot\n",
    "fig, ax = plt.subplots(1,1, dpi=100)\n",
    "\n",
    "\n",
    "#---------------> Data\n",
    "ax.plot(x, vxc0, label=\"Forward DFT\")\n",
    "ax.plot(x, vxc_inverted, label=\"Inverted DFT\")\n",
    "\n",
    "#---------------> Formatting\n",
    "ax.set_xlim(0.001,10)\n",
    "ax.set_ylim(-10,1)\n",
    "ax.set_ylabel('Density (e/$b_0^3$)')\n",
    "ax.set_xscale('log')\n",
    "ax.set_xlabel('z ($b_0$)')\n",
    "ax.legend()\n",
    "\n",
    "fig.suptitle(\"Neon Atom Vxc\")\n"
   ]
  },
  {
   "cell_type": "markdown",
   "id": "reflected-magazine",
   "metadata": {},
   "source": [
    "We can correct this behavior by isolating the oscillations--that are basis-set specific-- from an LDA exchange only calculation, and then removing them from subsequent calculations.  \n",
    "Currently, *n2v* only supports local functionals and thus we can only compare forward and reversed LDA. Nevertheless the procedure works for other functionals as well. "
   ]
  },
  {
   "cell_type": "code",
   "execution_count": null,
   "id": "superb-joint",
   "metadata": {},
   "outputs": [],
   "source": [
    "vxc_inverted_corr = ine.invert('direct', grid=grid, correction=True)"
   ]
  },
  {
   "cell_type": "code",
   "execution_count": null,
   "id": "alive-offering",
   "metadata": {},
   "outputs": [],
   "source": [
    "vxc0 = ine.eng.grid.vxc(Da=wfn.Da().np, Db=wfn.Db().np, func_id=1, grid=grid)\n",
    "\n",
    "#---------------> Plot\n",
    "fig, ax = plt.subplots(1,1, dpi=100)\n",
    "\n",
    "\n",
    "#---------------> Data\n",
    "ax.plot(x, vxc0, label=\"Forward LDA\")\n",
    "ax.plot(x, vxc_inverted_corr, '--',label=\"Corrected Inverted DFT\")\n",
    "\n",
    "#---------------> Formatting\n",
    "ax.set_xlim(0.001,10)\n",
    "ax.set_ylim(-10,1)\n",
    "ax.set_ylabel('Density (e/$b_0^3$)')\n",
    "ax.set_xscale('log')\n",
    "ax.set_xlabel('z ($b_0$)')\n",
    "ax.legend()\n",
    "\n",
    "fig.suptitle(\"Neon Atom Vxc\")\n"
   ]
  },
  {
   "cell_type": "code",
   "execution_count": null,
   "id": "f3552e54",
   "metadata": {},
   "outputs": [],
   "source": [
    "#---------------> Plot\n",
    "fig, ax = plt.subplots(1, 2, dpi=200)\n",
    "#---------------> Data\n",
    "ax[0].plot(x, vxc0, label=\"Forward DFT\")\n",
    "ax[0].plot(x, vxc_inverted, label=\"Inverted DFT\")\n",
    "ax[1].plot(x, vxc0, label=\"Forward DFT\")\n",
    "ax[1].plot(x, vxc_inverted_corr, '--',label=\"Corrected Inverted DFT\")\n",
    "#---------------> Formatting\n",
    "#-------> Labels\n",
    "ax[0].set_xlabel('postion')\n",
    "ax[0].set_ylabel('intensity')\n",
    "ax[0].legend(loc='best', fontsize='x-small')\n",
    "ax[1].set_xlabel('postion')\n",
    "ax[1].set_ylabel('intensity')\n",
    "ax[1].legend(loc='best', fontsize='x-small')\n",
    "#-------> Titles\n",
    "ax[0].title.set_text('Neon atom Vxc')\n",
    "ax[1].title.set_text('Neon atom Vxc Corrected')\n",
    "\n",
    "#-------> Sizing\n",
    "ax[0].set_xlim(0.001,10)\n",
    "ax[0].set_ylim(-10, 1)\n",
    "ax[1].set_xlim(0.001,10)\n",
    "ax[1].set_ylim(-10,1)\n",
    "ax[0].set_box_aspect(1)\n",
    "ax[1].set_box_aspect(1)\n",
    "ax[0].set_xscale('log')\n",
    "ax[1].set_xscale('log')\n",
    "fig.tight_layout()\n",
    "#-------> Borders ## Have to run cell twice for this to work no idea why -- AO\n",
    "plt.rcParams[\"axes.edgecolor\"] = \"black\"\n",
    "plt.rcParams[\"axes.linewidth\"] = 1.00\n",
    "#fig.suptitle(\"Neon atom Vxc\")"
   ]
  }
 ],
 "metadata": {
  "kernelspec": {
   "display_name": "Python 3",
   "language": "python",
   "name": "python3"
  },
  "language_info": {
   "codemirror_mode": {
    "name": "ipython",
    "version": 3
   },
   "file_extension": ".py",
   "mimetype": "text/x-python",
   "name": "python",
   "nbconvert_exporter": "python",
   "pygments_lexer": "ipython3",
   "version": "3.12.3"
  }
 },
 "nbformat": 4,
 "nbformat_minor": 5
}
