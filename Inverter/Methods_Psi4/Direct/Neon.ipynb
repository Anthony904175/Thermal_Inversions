{
 "cells": [
  {
   "cell_type": "markdown",
   "id": "checked-clinic",
   "metadata": {},
   "source": [
    "###  Removal of Basis-Set Artifacts in Kohn−Sham Potentials Recovered from Electron Densities \n",
    "J. Chem. Theory Comput. 2013, 9, 3959−3964\n",
    "\n",
    "#### Introduction:\n",
    "\n",
    "Gaiduk, Ryabinkin and Staroverov investigated that, one should be able to obtain the exchange-correlation potential $v_{xc}(r)$ from a set of canonical orbitals. This could be done by manipulating the Kohn-Sham equations as:\n",
    "\n",
    "\n",
    "$$\n",
    "[-\\frac{1}{2} \\nabla^2 + v_{eff}(r)] \\phi_i(r) = \\varepsilon_i \\phi_i(r)\n",
    "$$\n",
    "\n",
    "Where $$veff = v(r) + v_{H}(r) + v_{xc}(r)$$ \n",
    "\n",
    "Obtain $v_{xc}(r)$ from:\n",
    "\n",
    "$$v_{xc}(r) = \\frac{1}{n(r)} \\sum_i^N [\\phi_i^{*} (r) \\nabla^2 \\phi_i(r) + \\varepsilon_i | \\phi_i(r)|^2] $$\n",
    "\n",
    "\n",
    "Such procedure introduces oscillations and asymptotic divergences that have origin in small oscillations in the Kohn-Sham orbitals that are amplified by the Laplacian. \n",
    "\n",
    "We can perform such an inversion in $\\textit{n2v}$. Let us see how:"
   ]
  },
  {
   "cell_type": "code",
   "execution_count": 1,
   "id": "homeless-argument",
   "metadata": {},
   "outputs": [],
   "source": [
    "#Import modules\n",
    "#import sys\n",
    "#sys.path.insert(1, \"/Users/aosborne3/Desktop/research_tutorials/n2v\")\n",
    "import n2v\n",
    "import psi4\n",
    "import matplotlib.pyplot as plt\n",
    "import numpy as np\n",
    "\n",
    "import matplotlib as mpl\n",
    "mpl.rcParams[\"font.size\"] = 11\n",
    "mpl.rcParams[\"font.family\"] = \"sans-serif\"\n",
    "mpl.rcParams[\"axes.edgecolor\"] = \"#eae8e9\" "
   ]
  },
  {
   "cell_type": "code",
   "execution_count": 2,
   "id": "attempted-platform",
   "metadata": {},
   "outputs": [],
   "source": [
    "#Set options within Psi4.\n",
    "#Saving the jk object prevents n2v to build it again. \n",
    "psi4.set_options({\"save_jk\" : True})\n",
    "\n",
    "#n2v is driven by psi4's reference option. Make sure you set it accordingly. \n",
    "psi4.set_options({\"reference\" : \"rhf\"})\n",
    "\n",
    "#Set memory and avoid inheriting options from a different calculation. \n",
    "psi4.set_memory(int(2.50e9))\n",
    "psi4.core.clean()"
   ]
  },
  {
   "cell_type": "code",
   "execution_count": 4,
   "id": "confused-literacy",
   "metadata": {},
   "outputs": [
    {
     "ename": "RuntimeError",
     "evalue": "\nFatal Error: Timer HF: Form core H is already on.\nError occurred in file: /Users/runner/miniforge3/conda-bld/psi4_1709839991841/work/psi4/src/psi4/libqt/timer.cc on line: 280\nThe most recent 5 function calls were:\n\n",
     "output_type": "error",
     "traceback": [
      "\u001b[0;31m---------------------------------------------------------------------------\u001b[0m",
      "\u001b[0;31mRuntimeError\u001b[0m                              Traceback (most recent call last)",
      "Cell \u001b[0;32mIn[4], line 15\u001b[0m\n\u001b[1;32m      4\u001b[0m Ne \u001b[38;5;241m=\u001b[39m psi4\u001b[38;5;241m.\u001b[39mgeometry(\n\u001b[1;32m      5\u001b[0m \u001b[38;5;124;03m\"\"\"\u001b[39;00m\n\u001b[1;32m      6\u001b[0m \u001b[38;5;124;03m0 1\u001b[39;00m\n\u001b[0;32m   (...)\u001b[0m\n\u001b[1;32m     11\u001b[0m \u001b[38;5;124;03msymmetry c1\u001b[39;00m\n\u001b[1;32m     12\u001b[0m \u001b[38;5;124;03m\"\"\"\u001b[39;00m)\n\u001b[1;32m     14\u001b[0m \u001b[38;5;66;03m# Perform a DFT calculation.\u001b[39;00m\n\u001b[0;32m---> 15\u001b[0m e, wfn \u001b[38;5;241m=\u001b[39m \u001b[43mpsi4\u001b[49m\u001b[38;5;241;43m.\u001b[39;49m\u001b[43menergy\u001b[49m\u001b[43m(\u001b[49m\u001b[38;5;124;43m\"\u001b[39;49m\u001b[38;5;124;43msvwn/cc-pvtz\u001b[39;49m\u001b[38;5;124;43m\"\u001b[39;49m\u001b[43m,\u001b[49m\u001b[43m \u001b[49m\u001b[43mreturn_wfn\u001b[49m\u001b[38;5;241;43m=\u001b[39;49m\u001b[38;5;28;43;01mTrue\u001b[39;49;00m\u001b[43m,\u001b[49m\u001b[43m \u001b[49m\u001b[43mmolecule\u001b[49m\u001b[38;5;241;43m=\u001b[39;49m\u001b[43mNe\u001b[49m\u001b[43m)\u001b[49m\n\u001b[1;32m     18\u001b[0m \u001b[38;5;66;03m# Define inverter objects for each molecule. Simply use the wnf object from psi4 as an argument.\u001b[39;00m\n\u001b[1;32m     19\u001b[0m ine \u001b[38;5;241m=\u001b[39m n2v\u001b[38;5;241m.\u001b[39mInverter\u001b[38;5;241m.\u001b[39mfrom_wfn(wfn)\n",
      "File \u001b[0;32m/opt/anaconda3/envs/n2venv/lib/python3.12/site-packages/psi4/driver/driver.py:525\u001b[0m, in \u001b[0;36menergy\u001b[0;34m(name, **kwargs)\u001b[0m\n\u001b[1;32m    523\u001b[0m logger\u001b[38;5;241m.\u001b[39minfo(\u001b[38;5;124mf\u001b[39m\u001b[38;5;124m\"\u001b[39m\u001b[38;5;124mCompute energy(): method=\u001b[39m\u001b[38;5;132;01m{\u001b[39;00mlowername\u001b[38;5;132;01m}\u001b[39;00m\u001b[38;5;124m, basis=\u001b[39m\u001b[38;5;132;01m{\u001b[39;00mcore\u001b[38;5;241m.\u001b[39mget_global_option(\u001b[38;5;124m'\u001b[39m\u001b[38;5;124mBASIS\u001b[39m\u001b[38;5;124m'\u001b[39m)\u001b[38;5;241m.\u001b[39mlower()\u001b[38;5;132;01m}\u001b[39;00m\u001b[38;5;124m, molecule=\u001b[39m\u001b[38;5;132;01m{\u001b[39;00mmolecule\u001b[38;5;241m.\u001b[39mname()\u001b[38;5;132;01m}\u001b[39;00m\u001b[38;5;124m, nre=\u001b[39m\u001b[38;5;132;01m{\u001b[39;00m\u001b[38;5;124m'\u001b[39m\u001b[38;5;124mw/EFP\u001b[39m\u001b[38;5;124m'\u001b[39m\u001b[38;5;250m \u001b[39m\u001b[38;5;28;01mif\u001b[39;00m\u001b[38;5;250m \u001b[39m\u001b[38;5;28mhasattr\u001b[39m(molecule,\u001b[38;5;250m \u001b[39m\u001b[38;5;124m'\u001b[39m\u001b[38;5;124mEFP\u001b[39m\u001b[38;5;124m'\u001b[39m)\u001b[38;5;250m \u001b[39m\u001b[38;5;28;01melse\u001b[39;00m\u001b[38;5;250m \u001b[39mmolecule\u001b[38;5;241m.\u001b[39mnuclear_repulsion_energy()\u001b[38;5;132;01m}\u001b[39;00m\u001b[38;5;124m\"\u001b[39m)\n\u001b[1;32m    524\u001b[0m logger\u001b[38;5;241m.\u001b[39mdebug(\u001b[38;5;124m\"\u001b[39m\u001b[38;5;124mw/EFP\u001b[39m\u001b[38;5;124m\"\u001b[39m \u001b[38;5;28;01mif\u001b[39;00m \u001b[38;5;28mhasattr\u001b[39m(molecule, \u001b[38;5;124m\"\u001b[39m\u001b[38;5;124mEFP\u001b[39m\u001b[38;5;124m\"\u001b[39m) \u001b[38;5;28;01melse\u001b[39;00m pp\u001b[38;5;241m.\u001b[39mpformat(molecule\u001b[38;5;241m.\u001b[39mto_dict()))\n\u001b[0;32m--> 525\u001b[0m wfn \u001b[38;5;241m=\u001b[39m \u001b[43mprocedures\u001b[49m\u001b[43m[\u001b[49m\u001b[38;5;124;43m'\u001b[39;49m\u001b[38;5;124;43menergy\u001b[39;49m\u001b[38;5;124;43m'\u001b[39;49m\u001b[43m]\u001b[49m\u001b[43m[\u001b[49m\u001b[43mlowername\u001b[49m\u001b[43m]\u001b[49m\u001b[43m(\u001b[49m\u001b[43mlowername\u001b[49m\u001b[43m,\u001b[49m\u001b[43m \u001b[49m\u001b[43mmolecule\u001b[49m\u001b[38;5;241;43m=\u001b[39;49m\u001b[43mmolecule\u001b[49m\u001b[43m,\u001b[49m\u001b[43m \u001b[49m\u001b[38;5;241;43m*\u001b[39;49m\u001b[38;5;241;43m*\u001b[39;49m\u001b[43mkwargs\u001b[49m\u001b[43m)\u001b[49m\n\u001b[1;32m    526\u001b[0m logger\u001b[38;5;241m.\u001b[39minfo(\u001b[38;5;124mf\u001b[39m\u001b[38;5;124m\"\u001b[39m\u001b[38;5;124mReturn energy(): \u001b[39m\u001b[38;5;132;01m{\u001b[39;00mcore\u001b[38;5;241m.\u001b[39mvariable(\u001b[38;5;124m'\u001b[39m\u001b[38;5;124mCURRENT ENERGY\u001b[39m\u001b[38;5;124m'\u001b[39m)\u001b[38;5;132;01m}\u001b[39;00m\u001b[38;5;124m\"\u001b[39m)\n\u001b[1;32m    528\u001b[0m \u001b[38;5;28;01mfor\u001b[39;00m postcallback \u001b[38;5;129;01min\u001b[39;00m hooks[\u001b[38;5;124m'\u001b[39m\u001b[38;5;124menergy\u001b[39m\u001b[38;5;124m'\u001b[39m][\u001b[38;5;124m'\u001b[39m\u001b[38;5;124mpost\u001b[39m\u001b[38;5;124m'\u001b[39m]:\n",
      "File \u001b[0;32m/opt/anaconda3/envs/n2venv/lib/python3.12/site-packages/psi4/driver/procrouting/proc.py:2588\u001b[0m, in \u001b[0;36mrun_scf\u001b[0;34m(name, **kwargs)\u001b[0m\n\u001b[1;32m   2585\u001b[0m \u001b[38;5;28;01mif\u001b[39;00m \u001b[38;5;129;01mnot\u001b[39;00m core\u001b[38;5;241m.\u001b[39mhas_global_option_changed(\u001b[38;5;124m'\u001b[39m\u001b[38;5;124mSCF_TYPE\u001b[39m\u001b[38;5;124m'\u001b[39m):\n\u001b[1;32m   2586\u001b[0m     core\u001b[38;5;241m.\u001b[39mset_global_option(\u001b[38;5;124m'\u001b[39m\u001b[38;5;124mSCF_TYPE\u001b[39m\u001b[38;5;124m'\u001b[39m, \u001b[38;5;124m'\u001b[39m\u001b[38;5;124mDF\u001b[39m\u001b[38;5;124m'\u001b[39m)\n\u001b[0;32m-> 2588\u001b[0m scf_wfn \u001b[38;5;241m=\u001b[39m \u001b[43mscf_helper\u001b[49m\u001b[43m(\u001b[49m\u001b[43mname\u001b[49m\u001b[43m,\u001b[49m\u001b[43m \u001b[49m\u001b[43mpost_scf\u001b[49m\u001b[38;5;241;43m=\u001b[39;49m\u001b[38;5;28;43;01mFalse\u001b[39;49;00m\u001b[43m,\u001b[49m\u001b[43m \u001b[49m\u001b[38;5;241;43m*\u001b[39;49m\u001b[38;5;241;43m*\u001b[39;49m\u001b[43mkwargs\u001b[49m\u001b[43m)\u001b[49m\n\u001b[1;32m   2589\u001b[0m returnvalue \u001b[38;5;241m=\u001b[39m scf_wfn\u001b[38;5;241m.\u001b[39menergy()\n\u001b[1;32m   2591\u001b[0m ssuper \u001b[38;5;241m=\u001b[39m scf_wfn\u001b[38;5;241m.\u001b[39mfunctional()\n",
      "File \u001b[0;32m/opt/anaconda3/envs/n2venv/lib/python3.12/site-packages/psi4/driver/procrouting/proc.py:1887\u001b[0m, in \u001b[0;36mscf_helper\u001b[0;34m(name, post_scf, **kwargs)\u001b[0m\n\u001b[1;32m   1879\u001b[0m     core\u001b[38;5;241m.\u001b[39mprint_out(\u001b[38;5;124mf\u001b[39m\u001b[38;5;124m\"\"\"\u001b[39m\u001b[38;5;124m Using potential file\u001b[39m\n\u001b[1;32m   1880\u001b[0m \u001b[38;5;124m                   \u001b[39m\u001b[38;5;132;01m{\u001b[39;00mpol_embed_options[\u001b[38;5;124m\"\u001b[39m\u001b[38;5;124mpotfile\u001b[39m\u001b[38;5;124m\"\u001b[39m]\u001b[38;5;132;01m}\u001b[39;00m\n\u001b[1;32m   1881\u001b[0m \u001b[38;5;124m                   for Polarizable Embedding calculation.\u001b[39m\u001b[38;5;130;01m\\n\u001b[39;00m\u001b[38;5;124m\"\"\"\u001b[39m)\n\u001b[1;32m   1882\u001b[0m     scf_wfn\u001b[38;5;241m.\u001b[39mpe_state \u001b[38;5;241m=\u001b[39m solvent\u001b[38;5;241m.\u001b[39mpol_embed\u001b[38;5;241m.\u001b[39mCppeInterface(\n\u001b[1;32m   1883\u001b[0m         molecule\u001b[38;5;241m=\u001b[39mscf_molecule, options\u001b[38;5;241m=\u001b[39mpol_embed_options,\n\u001b[1;32m   1884\u001b[0m         basisset\u001b[38;5;241m=\u001b[39mscf_wfn\u001b[38;5;241m.\u001b[39mbasisset()\n\u001b[1;32m   1885\u001b[0m     )\n\u001b[0;32m-> 1887\u001b[0m e_scf \u001b[38;5;241m=\u001b[39m \u001b[43mscf_wfn\u001b[49m\u001b[38;5;241;43m.\u001b[39;49m\u001b[43mcompute_energy\u001b[49m\u001b[43m(\u001b[49m\u001b[43m)\u001b[49m\n\u001b[1;32m   1888\u001b[0m \u001b[38;5;28;01mfor\u001b[39;00m obj \u001b[38;5;129;01min\u001b[39;00m [core, scf_wfn]:\n\u001b[1;32m   1889\u001b[0m     \u001b[38;5;66;03m# set_variable(\"SCF TOTAL ENERGY\")  # P::e SCF\u001b[39;00m\n\u001b[1;32m   1890\u001b[0m     \u001b[38;5;28;01mfor\u001b[39;00m pv \u001b[38;5;129;01min\u001b[39;00m [\u001b[38;5;124m\"\u001b[39m\u001b[38;5;124mSCF TOTAL ENERGY\u001b[39m\u001b[38;5;124m\"\u001b[39m, \u001b[38;5;124m\"\u001b[39m\u001b[38;5;124mCURRENT ENERGY\u001b[39m\u001b[38;5;124m\"\u001b[39m, \u001b[38;5;124m\"\u001b[39m\u001b[38;5;124mCURRENT REFERENCE ENERGY\u001b[39m\u001b[38;5;124m\"\u001b[39m]:\n",
      "File \u001b[0;32m/opt/anaconda3/envs/n2venv/lib/python3.12/site-packages/psi4/driver/procrouting/scf_proc/scf_iterator.py:82\u001b[0m, in \u001b[0;36mscf_compute_energy\u001b[0;34m(self)\u001b[0m\n\u001b[1;32m     80\u001b[0m     \u001b[38;5;28mself\u001b[39m\u001b[38;5;241m.\u001b[39minitialize_jk(\u001b[38;5;28mself\u001b[39m\u001b[38;5;241m.\u001b[39mmemory_jk_)\n\u001b[1;32m     81\u001b[0m \u001b[38;5;28;01melse\u001b[39;00m:\n\u001b[0;32m---> 82\u001b[0m     \u001b[38;5;28;43mself\u001b[39;49m\u001b[38;5;241;43m.\u001b[39;49m\u001b[43minitialize\u001b[49m\u001b[43m(\u001b[49m\u001b[43m)\u001b[49m\n\u001b[1;32m     83\u001b[0m \u001b[38;5;28mself\u001b[39m\u001b[38;5;241m.\u001b[39miteration_energies \u001b[38;5;241m=\u001b[39m []\n\u001b[1;32m     85\u001b[0m \u001b[38;5;28;01mtry\u001b[39;00m:\n",
      "File \u001b[0;32m/opt/anaconda3/envs/n2venv/lib/python3.12/site-packages/psi4/driver/procrouting/scf_proc/scf_iterator.py:196\u001b[0m, in \u001b[0;36mscf_initialize\u001b[0;34m(self)\u001b[0m\n\u001b[1;32m    194\u001b[0m \u001b[38;5;28;01mif\u001b[39;00m \u001b[38;5;28mself\u001b[39m\u001b[38;5;241m.\u001b[39mV_potential():\n\u001b[1;32m    195\u001b[0m     \u001b[38;5;28mself\u001b[39m\u001b[38;5;241m.\u001b[39mV_potential()\u001b[38;5;241m.\u001b[39mbuild_collocation_cache(\u001b[38;5;28mself\u001b[39m\u001b[38;5;241m.\u001b[39mmemory_collocation_)\n\u001b[0;32m--> 196\u001b[0m \u001b[43mcore\u001b[49m\u001b[38;5;241;43m.\u001b[39;49m\u001b[43mtimer_on\u001b[49m\u001b[43m(\u001b[49m\u001b[38;5;124;43m\"\u001b[39;49m\u001b[38;5;124;43mHF: Form core H\u001b[39;49m\u001b[38;5;124;43m\"\u001b[39;49m\u001b[43m)\u001b[49m\n\u001b[1;32m    197\u001b[0m \u001b[38;5;28mself\u001b[39m\u001b[38;5;241m.\u001b[39mform_H()\n\u001b[1;32m    198\u001b[0m core\u001b[38;5;241m.\u001b[39mtimer_off(\u001b[38;5;124m\"\u001b[39m\u001b[38;5;124mHF: Form core H\u001b[39m\u001b[38;5;124m\"\u001b[39m)\n",
      "\u001b[0;31mRuntimeError\u001b[0m: \nFatal Error: Timer HF: Form core H is already on.\nError occurred in file: /Users/runner/miniforge3/conda-bld/psi4_1709839991841/work/psi4/src/psi4/libqt/timer.cc on line: 280\nThe most recent 5 function calls were:\n\n"
     ]
    }
   ],
   "source": [
    "# Let us focus on the Neon atom.\n",
    "\n",
    "# Define Psi4 geometries. Symmetries need to be set to C1!\n",
    "Ne = psi4.geometry(\n",
    "\"\"\"\n",
    "0 1\n",
    "Ne 0.0 0.0 0.0\n",
    "noreorient\n",
    "nocom\n",
    "units bohr\n",
    "symmetry c1\n",
    "\"\"\")\n",
    "\n",
    "# Perform a DFT calculation.\n",
    "e, wfn = psi4.energy(\"svwn/cc-pvtz\", return_wfn=True, molecule=Ne)\n",
    "\n",
    "\n",
    "# Define inverter objects for each molecule. Simply use the wnf object from psi4 as an argument.\n",
    "ine = n2v.Inverter.from_wfn(wfn)\n",
    "\n",
    "# Define a grid to visualize all of the generated potentials.\n",
    "# Since we are using radially symmetric atoms, we focus on the space from the origin all the way to 10 a.u.\n",
    "npoints=10002\n",
    "x = np.linspace(0,10,npoints)[:,None]\n",
    "y = np.zeros_like(x)\n",
    "z = y\n",
    "grid = np.concatenate((x,y,z), axis=1).T"
   ]
  },
  {
   "cell_type": "code",
   "execution_count": null,
   "id": "6bd6e39e",
   "metadata": {},
   "outputs": [],
   "source": [
    "#let us invert the kohn-sham equations:\n",
    "vxc_inverted = ine.invert('direct', grid=grid, correction=False)"
   ]
  },
  {
   "cell_type": "code",
   "execution_count": null,
   "id": "regular-consolidation",
   "metadata": {},
   "outputs": [],
   "source": [
    "#Compare the performance of direct and reversed calculation of vxc. \n",
    "vxc0 = ine.eng.grid.vxc(Da=wfn.Da().np, Db=wfn.Db().np, grid=grid)\n",
    "\n",
    "#---------------> Plot\n",
    "fig, ax = plt.subplots(1,1, dpi=100)\n",
    "\n",
    "\n",
    "#---------------> Data\n",
    "ax.plot(x, vxc0, label=\"Forward DFT\")\n",
    "ax.plot(x, vxc_inverted, label=\"Inverted DFT\")\n",
    "\n",
    "#---------------> Formatting\n",
    "ax.set_xlim(0.001,10)\n",
    "ax.set_ylim(-10,1)\n",
    "ax.set_ylabel('Density (e/$b_0^3$)')\n",
    "ax.set_xscale('log')\n",
    "ax.set_xlabel('z ($b_0$)')\n",
    "ax.legend()\n",
    "\n",
    "fig.suptitle(\"Neon Atom Vxc\")\n"
   ]
  },
  {
   "cell_type": "markdown",
   "id": "reflected-magazine",
   "metadata": {},
   "source": [
    "We can correct this behavior by isolating the oscillations--that are basis-set specific-- from an LDA exchange only calculation, and then removing them from subsequent calculations.  \n",
    "Currently, *n2v* only supports local functionals and thus we can only compare forward and reversed LDA. Nevertheless the procedure works for other functionals as well. "
   ]
  },
  {
   "cell_type": "code",
   "execution_count": null,
   "id": "superb-joint",
   "metadata": {},
   "outputs": [],
   "source": [
    "vxc_inverted_corr = ine.invert('direct', grid=grid, correction=True)"
   ]
  },
  {
   "cell_type": "code",
   "execution_count": null,
   "id": "alive-offering",
   "metadata": {},
   "outputs": [],
   "source": [
    "vxc0 = ine.eng.grid.vxc(Da=wfn.Da().np, Db=wfn.Db().np, func_id=1, grid=grid)\n",
    "\n",
    "#---------------> Plot\n",
    "fig, ax = plt.subplots(1,1, dpi=100)\n",
    "\n",
    "\n",
    "#---------------> Data\n",
    "ax.plot(x, vxc0, label=\"Forward LDA\")\n",
    "ax.plot(x, vxc_inverted_corr, '--',label=\"Corrected Inverted DFT\")\n",
    "\n",
    "#---------------> Formatting\n",
    "ax.set_xlim(0.001,10)\n",
    "ax.set_ylim(-10,1)\n",
    "ax.set_ylabel('Density (e/$b_0^3$)')\n",
    "ax.set_xscale('log')\n",
    "ax.set_xlabel('z ($b_0$)')\n",
    "ax.legend()\n",
    "\n",
    "fig.suptitle(\"Neon Atom Vxc\")\n"
   ]
  },
  {
   "cell_type": "code",
   "execution_count": null,
   "id": "f3552e54",
   "metadata": {},
   "outputs": [],
   "source": [
    "#---------------> Plot\n",
    "fig, ax = plt.subplots(1, 2, dpi=200)\n",
    "#---------------> Data\n",
    "ax[0].plot(x, vxc0, label=\"Forward DFT\")\n",
    "ax[0].plot(x, vxc_inverted, label=\"Inverted DFT\")\n",
    "ax[1].plot(x, vxc0, label=\"Forward DFT\")\n",
    "ax[1].plot(x, vxc_inverted_corr, '--',label=\"Corrected Inverted DFT\")\n",
    "#---------------> Formatting\n",
    "#-------> Labels\n",
    "ax[0].set_xlabel('postion')\n",
    "ax[0].set_ylabel('intensity')\n",
    "ax[0].legend(loc='best', fontsize='x-small')\n",
    "ax[1].set_xlabel('postion')\n",
    "ax[1].set_ylabel('intensity')\n",
    "ax[1].legend(loc='best', fontsize='x-small')\n",
    "#-------> Titles\n",
    "ax[0].title.set_text('Neon atom Vxc')\n",
    "ax[1].title.set_text('Neon atom Vxc Corrected')\n",
    "\n",
    "#-------> Sizing\n",
    "ax[0].set_xlim(0.001,10)\n",
    "ax[0].set_ylim(-10, 1)\n",
    "ax[1].set_xlim(0.001,10)\n",
    "ax[1].set_ylim(-10,1)\n",
    "ax[0].set_box_aspect(1)\n",
    "ax[1].set_box_aspect(1)\n",
    "ax[0].set_xscale('log')\n",
    "ax[1].set_xscale('log')\n",
    "fig.tight_layout()\n",
    "#-------> Borders ## Have to run cell twice for this to work no idea why -- AO\n",
    "plt.rcParams[\"axes.edgecolor\"] = \"black\"\n",
    "plt.rcParams[\"axes.linewidth\"] = 1.00\n",
    "#fig.suptitle(\"Neon atom Vxc\")"
   ]
  }
 ],
 "metadata": {
  "kernelspec": {
   "display_name": "Python 3",
   "language": "python",
   "name": "python3"
  },
  "language_info": {
   "codemirror_mode": {
    "name": "ipython",
    "version": 3
   },
   "file_extension": ".py",
   "mimetype": "text/x-python",
   "name": "python",
   "nbconvert_exporter": "python",
   "pygments_lexer": "ipython3",
   "version": "3.12.3"
  }
 },
 "nbformat": 4,
 "nbformat_minor": 5
}
