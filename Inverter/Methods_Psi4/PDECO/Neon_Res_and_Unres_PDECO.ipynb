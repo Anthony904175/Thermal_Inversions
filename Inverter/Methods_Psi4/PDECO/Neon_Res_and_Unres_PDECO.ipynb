{
 "cells": [
  {
   "cell_type": "markdown",
   "id": "identical-warehouse",
   "metadata": {},
   "source": [
    "## PDECO Method for KS Inversion\n",
    "Please check the original paper of the PDE-Constrained Optimization method:\n",
    " <br>[Jensen Wasserman, Int J Quantum Chem. 2018;118:e25425](https://onlinelibrary.wiley.com/doi/full/10.1002/qua.25425);\n",
    " <br>[Kanungo, Zimmerman, Gavini, Nat Commun 10, 4497 (2019)](https://doi.org/10.1038)"
   ]
  },
  {
   "cell_type": "code",
   "execution_count": 1,
   "id": "bored-ireland",
   "metadata": {},
   "outputs": [
    {
     "name": "stdout",
     "output_type": "stream",
     "text": [
      "\n",
      "  Memory set to   2.328 GiB by Python driver.\n"
     ]
    }
   ],
   "source": [
    "import psi4\n",
    "import matplotlib.pyplot as plt\n",
    "import numpy as np\n",
    "\n",
    "psi4.set_options({\"save_jk\" : True})\n",
    "psi4.set_memory(int(2.50e9))\n",
    "psi4.core.clean()\n",
    "\n",
    "import n2v\n",
    "\n",
    "import matplotlib as mpl\n",
    "mpl.rcParams[\"font.size\"] = 11\n",
    "mpl.rcParams[\"font.family\"] = \"sans-serif\"\n",
    "mpl.rcParams[\"axes.edgecolor\"] = \"#eae8e9\" "
   ]
  },
  {
   "cell_type": "markdown",
   "id": "potential-wesley",
   "metadata": {},
   "source": [
    "---\n",
    "### Perform target calculation with Psi4. \n",
    "Store wavefunction (wfn) object"
   ]
  },
  {
   "cell_type": "code",
   "execution_count": 2,
   "id": "awful-implement",
   "metadata": {},
   "outputs": [],
   "source": [
    "Ne = psi4.geometry( \n",
    "\"\"\" \n",
    "Ne\n",
    "noreorient\n",
    "nocom\n",
    "units bohr\n",
    "symmetry c1\n",
    "\"\"\" )\n",
    "\n",
    "psi4.set_options({\"reference\" : \"rhf\"})  # Spin-Restricted\n",
    "\n",
    "# IMPORTANT NOTE: psi4.energy does not update cc densities. So we calculate dipole moments instead.\n",
    "wfn = psi4.properties(\"ccsd/aug-cc-pvtz\",  return_wfn=True, molecule=Ne, property=['dipole'])[1]\n",
    "\n",
    "# Build inverter and set target\n",
    "ine = n2v.Inverter.from_wfn(wfn, pbs=\"aug-cc-pvqz\")"
   ]
  },
  {
   "cell_type": "markdown",
   "id": "valued-reservation",
   "metadata": {},
   "source": [
    "PDECO is based on a very simple intuition: the better the density, the better the XC potential will be, at least in the region close enough to the exact density and exact XC potential. Based on this, a density error is defined and optimized:\n",
    "$$N_{error} = \\int dr|n(r) - n_{in}(r)|^2.$$\n",
    "In order to optimize this, a Lagrangian is defined:\n",
    "\\begin{split}\n",
    "&L\\left[v_{KS}, \\{\\psi_i\\}, \\{\\epsilon_i\\}, \\{p_i\\}, \\{\\mu_i\\}\\right]\\\\\n",
    "    =& \\int(n(r)-n_{in}(r))^2 dr \\\\ \n",
    "    & + \\sum_{i=1}^{N/2}\\int p_i(r)(-\\frac{1}{2}\\nabla^2+v_{KS}(r) - \\epsilon_i)\\psi_i(r)dr\\\\\n",
    "    &+\\sum_{i=1}^{N/2}\\mu_i(\\int|\\psi_i(r)|^2dr-1)\n",
    "\\end{split}\n",
    "where where $\\{p_i\\}$ and $\\{\\mu_i\\}$ are Lagrange multipliers for the constraints that $\\{\\psi_i\\}$ are the KS orbitals of $v_{KS}$ with corresponding eigenvalue $\\{\\epsilon_i\\}$ and that the $\\{\\psi_i\\}$ are normalized."
   ]
  },
  {
   "cell_type": "markdown",
   "id": "european-hurricane",
   "metadata": {},
   "source": [
    "The gradient of this Lagrangian with respect to $v_{XC}$ can be derived by solving the following equations in sequence:\n",
    "$\n",
    "\\begin{align}\n",
    "&(-\\frac{1}{2}\\nabla^2+v_{KS}(r))\\psi_i(r) = \\epsilon_i\\psi_i(r),\\\\ %\\label{equ:CONormalEquationa}\\\\\n",
    "&\\int |\\psi_i(r)|^2 dr= 1,\\\\\n",
    "&(-\\frac{1}{2}\\nabla^2+v_{KS}(r) - \\epsilon_i)p_i(r)= 8(n\\in(r)-n(r))\\psi_i(r) - 2\\mu_i\\psi_i(r),\\\\\n",
    "&\\int p_i(r)\\psi_i(r)dr = 0,\\\\\n",
    "&\\frac{\\delta L}{\\delta v_{KS}(r)}=\\sum_{i=1}^{N/2}p_i(r)\\psi_i(r).\n",
    "\\end{align}\n",
    "$\n",
    "It should be noted that, clearly $p_i$ is orthogonal to $\\psi_i$ and that $(-\\frac{1}{2}\\nabla^2+v_{KS}(r) - \\epsilon_i)$ is singular. The current implementation of n2v can produce problems here for some systems because of the linear solver used as well as the finite basis set for representing $\\{p_i\\}.$"
   ]
  },
  {
   "cell_type": "markdown",
   "id": "sought-colony",
   "metadata": {},
   "source": [
    "---\n",
    "### Invert! \n",
    "$$v_{Kohn-Sham}=v_{ext}+v_{guide}+v_{rest}$$\n",
    "With the guide potential $v_{guide}=v_{Fermi-Amaldi}$ and the rest potential $v_{rest}$ on the potential basis set (pbs) \"aug-cc-pvqz\"."
   ]
  },
  {
   "cell_type": "code",
   "execution_count": 3,
   "id": "saving-birmingham",
   "metadata": {},
   "outputs": [
    {
     "name": "stdout",
     "output_type": "stream",
     "text": [
      "4-AO-Overlap tensor will take about 0.000560 GB.\n",
      "Optimization Successful within 129 iterations! |grad|=7.93e-05.\n"
     ]
    }
   ],
   "source": [
    "# Inverter with WuYang method, guide potention v0=Fermi-Amaldi\n",
    "ine.v_pbs = np.zeros_like(ine.v_pbs)\n",
    "ine.invert(\"PDECO\", opt_max_iter=200, guide_components=\"fermi_amaldi\", gtol=1e-6)"
   ]
  },
  {
   "cell_type": "markdown",
   "id": "incorporate-swimming",
   "metadata": {},
   "source": [
    "---\n",
    "\n",
    "### Visualization of the potentials. \n",
    "#### Since this is a 1-D system, let's first plot it alone x axis."
   ]
  },
  {
   "cell_type": "code",
   "execution_count": 4,
   "id": "prime-moral",
   "metadata": {},
   "outputs": [],
   "source": [
    "x = np.linspace(-5,5,101)\n",
    "y = np.zeros_like(x)\n",
    "z = np.zeros_like(x)\n",
    "grids = np.array([x,y,z])\n",
    "grids.shape\n",
    "\n",
    "# Alterantively, we can use the generate grid function. \n",
    "grids_temp, _ = ine.eng.grid.generate_grid(x=x, y=[0], z=[0])"
   ]
  },
  {
   "cell_type": "markdown",
   "id": "insured-lawrence",
   "metadata": {},
   "source": [
    "Get exchange-correlation potentials.\n",
    "\\begin{align}\n",
    "v_{xc}\n",
    "&=v_{Kohn-Sham}-v_{Hartree}-v_{ext}\\\\\n",
    "&=v_{guide}+v_{rest}-v_{Hartree}\n",
    "\\end{align}"
   ]
  },
  {
   "cell_type": "code",
   "execution_count": 5,
   "id": "solid-bacteria",
   "metadata": {},
   "outputs": [],
   "source": [
    "vrest = ine.eng.grid.ao(ine.v_pbs, grid=grids, basis=ine.eng.pbs)  # Note that specify the basis set that vrest is on."
   ]
  },
  {
   "cell_type": "code",
   "execution_count": 6,
   "id": "known-murray",
   "metadata": {},
   "outputs": [],
   "source": [
    "# Get Hartree and Fermi-Amaldi potentials\n",
    "\n",
    "vH = ine.eng.grid.esp(Da=ine.Dt[0], Db=ine.Dt[1], grid=grids)[1]\n",
    "vFA = (1-1/(ine.nalpha + ine.nbeta)) * vH\n",
    "\n",
    "# Build Vxc\n",
    "vxc = vFA + vrest - vH"
   ]
  },
  {
   "cell_type": "code",
   "execution_count": 7,
   "id": "acquired-bleeding",
   "metadata": {},
   "outputs": [
    {
     "data": {
      "text/plain": [
       "<matplotlib.legend.Legend at 0x13774f4d0>"
      ]
     },
     "execution_count": 7,
     "metadata": {},
     "output_type": "execute_result"
    },
    {
     "data": {
      "image/png": "[encoded data removed]",
      "text/plain": [
       "<Figure size 640x480 with 1 Axes>"
      ]
     },
     "metadata": {},
     "output_type": "display_data"
    }
   ],
   "source": [
    "fig, ax = plt.subplots()\n",
    "ax.plot(x, vxc, label='vxc')\n",
    "ax.legend()"
   ]
  },
  {
   "cell_type": "markdown",
   "id": "infectious-project",
   "metadata": {},
   "source": [
    "---\n",
    "# Unrestricted Calculation "
   ]
  },
  {
   "cell_type": "code",
   "execution_count": 8,
   "id": "threatened-damage",
   "metadata": {},
   "outputs": [],
   "source": [
    "psi4.set_options({\"reference\" : \"uhf\"})  # Spin-Restricted\n",
    "\n",
    "# IMPORTANT NOTE: psi4.energy does not update cc densities. So we calculate dipole moments instead.\n",
    "wfn = psi4.properties(\"ccsd/aug-cc-pvtz\",  return_wfn=True, molecule=Ne, property=['dipole'])[1]\n",
    "\n",
    "# Build inverter and set target\n",
    "ine = n2v.Inverter.from_wfn(wfn, pbs=\"aug-cc-pvqz\")"
   ]
  },
  {
   "cell_type": "code",
   "execution_count": 9,
   "id": "international-asbestos",
   "metadata": {},
   "outputs": [
    {
     "data": {
      "text/plain": [
       "False"
      ]
     },
     "execution_count": 9,
     "metadata": {},
     "output_type": "execute_result"
    }
   ],
   "source": [
    "wfn.to_file()['boolean']['same_a_b_dens']\n"
   ]
  },
  {
   "cell_type": "code",
   "execution_count": 10,
   "id": "weighted-approval",
   "metadata": {},
   "outputs": [
    {
     "data": {
      "text/plain": [
       "'UHF'"
      ]
     },
     "execution_count": 10,
     "metadata": {},
     "output_type": "execute_result"
    }
   ],
   "source": [
    "psi4.core.get_global_option('reference')"
   ]
  },
  {
   "cell_type": "code",
   "execution_count": 11,
   "id": "strange-quick",
   "metadata": {},
   "outputs": [
    {
     "name": "stdout",
     "output_type": "stream",
     "text": [
      "4-AO-Overlap tensor will take about 0.000560 GB.\n",
      "Optimization Successful within 16 iterations! |grad|=2.15e-05.\n"
     ]
    }
   ],
   "source": [
    "# Inverter with WuYang method, guide potention v0=Fermi-Amaldi\n",
    "ine.v_pbs = np.zeros_like(ine.v_pbs)\n",
    "ine.invert(\"PDECO\", opt_max_iter=200, guide_components=\"fermi_amaldi\", gtol=1e-6)"
   ]
  },
  {
   "cell_type": "code",
   "execution_count": 12,
   "id": "latin-renaissance",
   "metadata": {},
   "outputs": [],
   "source": [
    "x = np.linspace(-5,5,101)\n",
    "y = np.zeros_like(x)\n",
    "z = np.zeros_like(x)\n",
    "grid = np.array([x,y,z])\n",
    "\n",
    "vH = ine.eng.grid.esp(Da=ine.Dt[0], Db=ine.Dt[1], grid=grid)[1]\n",
    "vFA = (1-1/(ine.nalpha + ine.nbeta)) * vH"
   ]
  },
  {
   "cell_type": "code",
   "execution_count": 13,
   "id": "small-myrtle",
   "metadata": {},
   "outputs": [],
   "source": [
    "vrest_a = ine.eng.grid.ao(ine.v_pbs[:ine.npbs], grid=grid, basis=ine.eng.pbs)  # Note that specify the basis set \n",
    "                                                               # that vrest is on.\n",
    "vxc_a = vFA + vrest_a - vH"
   ]
  },
  {
   "cell_type": "code",
   "execution_count": 14,
   "id": "round-cambodia",
   "metadata": {},
   "outputs": [],
   "source": [
    "vrest_b = ine.eng.grid.ao(ine.v_pbs[ine.npbs:], grid=grids, basis=ine.eng.pbs)  # Note that specify the basis set \n",
    "                                                               # that vrest is on.\n",
    "vxc_b = vFA + vrest_b - vH"
   ]
  },
  {
   "cell_type": "code",
   "execution_count": 15,
   "id": "crude-salem",
   "metadata": {},
   "outputs": [
    {
     "data": {
      "text/plain": [
       "<matplotlib.legend.Legend at 0x137c7b860>"
      ]
     },
     "execution_count": 15,
     "metadata": {},
     "output_type": "execute_result"
    },
    {
     "data": {
      "image/png": "[encoded data removed]",
      "text/plain": [
       "<Figure size 1200x500 with 2 Axes>"
      ]
     },
     "metadata": {},
     "output_type": "display_data"
    }
   ],
   "source": [
    "fig, ax = plt.subplots(1,2, figsize=(12,5))\n",
    "ax[0].plot(x, vxc_a, label='Vxc_a')\n",
    "ax[1].plot(x, vxc_b, label='Vxc_b')\n",
    "ax[0].legend()\n",
    "ax[1].legend()"
   ]
  },
  {
   "cell_type": "code",
   "execution_count": 16,
   "id": "automotive-retention",
   "metadata": {},
   "outputs": [
    {
     "data": {
      "text/plain": [
       "2"
      ]
     },
     "execution_count": 16,
     "metadata": {},
     "output_type": "execute_result"
    }
   ],
   "source": [
    "ine.ref"
   ]
  },
  {
   "cell_type": "code",
   "execution_count": null,
   "id": "cathedral-investment",
   "metadata": {},
   "outputs": [],
   "source": []
  }
 ],
 "metadata": {
  "kernelspec": {
   "display_name": "Python 3",
   "language": "python",
   "name": "python3"
  },
  "language_info": {
   "codemirror_mode": {
    "name": "ipython",
    "version": 3
   },
   "file_extension": ".py",
   "mimetype": "text/x-python",
   "name": "python",
   "nbconvert_exporter": "python",
   "pygments_lexer": "ipython3",
   "version": "3.12.3"
  }
 },
 "nbformat": 4,
 "nbformat_minor": 5
}
