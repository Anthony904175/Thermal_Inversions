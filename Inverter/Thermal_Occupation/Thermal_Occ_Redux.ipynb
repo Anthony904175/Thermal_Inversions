{
 "cells": [
  {
   "cell_type": "markdown",
   "metadata": {},
   "source": [
    "# Thermal Occupations Redux\n",
    "## Non-Interacting only\n",
    "### By Anthony Osborne\n",
    "#### Based on code from Vincent Martinetto"
   ]
  },
  {
   "cell_type": "code",
   "execution_count": 1,
   "metadata": {},
   "outputs": [],
   "source": [
    "%matplotlib inline"
   ]
  },
  {
   "cell_type": "code",
   "execution_count": 56,
   "metadata": {},
   "outputs": [],
   "source": [
    "import numpy as np\n",
    "import scipy.sparse as spa\n",
    "from scipy.sparse.linalg import eigsh\n",
    "from numpy import linspace\n",
    "from numpy import array\n",
    "import matplotlib.pyplot as plt\n",
    "from scipy.integrate import simps\n",
    "import matplotlib.animation as animation\n",
    "from IPython.display import HTML\n",
    "import iDEA\n",
    "import math\n",
    "from matplotlib import cm\n",
    "import scipy\n",
    "from decimal import Decimal"
   ]
  },
  {
   "cell_type": "markdown",
   "metadata": {},
   "source": [
    "## Set up\n",
    "### Definition of Harmonic Oscillator $v_{ext}$ and Fermi Occupation Function"
   ]
  },
  {
   "cell_type": "code",
   "execution_count": 3,
   "metadata": {},
   "outputs": [],
   "source": [
    "# Fermi Occupation function\n",
    "def occs(Eis,mu,tau):\n",
    "    '''\n",
    "    INPUT:\n",
    "        tau: Scalar\n",
    "            the tau value to find the temprature dependent mu for\n",
    "        mus: scalar\n",
    "            a guess at a value below the chemical potential for tau\n",
    "        Eis: Scalar\n",
    "            Some kind of energy -- AO\n",
    "    OUTPUT\n",
    "        F_occs: Scalar\n",
    "            The Fermi Occupation for mu, tau, Eis\n",
    "    '''\n",
    "    F_occs = 1/(1+np.exp((Eis-mu)/tau))\n",
    "    return F_occs\n",
    "\n",
    "#Harmonic oscillator external potential\n",
    "def v_harm(x):\n",
    "    '''\n",
    "    INPUT:\n",
    "        x: ndarray\n",
    "            Position\n",
    "    OUTPUT\n",
    "        harm_ext: Scalar\n",
    "            harmonic oscillator potential\n",
    "    '''\n",
    "    harm_ext = .5*x**2\n",
    "    return harm_ext"
   ]
  },
  {
   "cell_type": "markdown",
   "metadata": {},
   "source": [
    "### Plotting Function"
   ]
  },
  {
   "cell_type": "code",
   "execution_count": 45,
   "metadata": {},
   "outputs": [],
   "source": [
    "def plotFunction(Function, a, b, Ngrid, N=\"None\", eigenValues=\"None\",eigenVaectors=\"None\", x_lim1=0, x_lim2=10, y_lim1=-1, y_lim2=10, xlabel=\"\", ylabel=\"\", title=\"\", ncols=1, thickGraph=\"no\", plotPoint=\"no\", px=0, pfx=0):\n",
    "        \"\"\"\n",
    "        Description: Plot function for notebook\n",
    "        Current Capabilites: Built to test different functions to make sure they are working as expected \n",
    "        Goal: Eventually this will be set up to plot everything in the notebook \n",
    "        Note: To adjust the plot you can use matplotlib functions before this function call. Example:\n",
    "            plt.title(\"A plot\")\n",
    "            plt.ylim(0,5)\n",
    "            plt.xlim(-1,2)\n",
    "            plotFunction(lambda x: x**2, a, b, ...)\n",
    "\n",
    "        :param potentialfunction: V(x)\n",
    "        :param a: left interval\n",
    "        :param b: right interval\n",
    "        :param x_lim1: The left x axis limit            default: 0\n",
    "        :param x_lim2: The right x axis limit           default: 10\n",
    "        :param y_lim1: The bottom y axis limit          default: -1 \n",
    "        :param y_lim1: The top y axis limit             default: 10\n",
    "        :param xlabel: Label for x axis                 default: blank\n",
    "        :param ylabel: Label for y axis                 default: blank\n",
    "        :param title:  Title for plot                   default: blank\n",
    "        :param nocls: the number of columns for figure  default: 1 Currenlty only works for 1 column needs updating for >1\n",
    "        :param thickGraph: determines axes thickness    default: no Ideal for code. For posters use yes\n",
    "        #-------> Not used in current build but here for the future use\n",
    "        :param N: Number of basis functions\n",
    "        :param eigenValues: Eigenvalues\n",
    "        :param eigenVectors: Eigenvector matrix of size N x len(eigenValues)\n",
    "        \"\"\"\n",
    "        if ncols >1:\n",
    "                print(\"Error Function is currently built to handle only one column\")\n",
    "                print(\"Quitting Plot Function. Please adjust parameters and try again\")\n",
    "\n",
    "                return \n",
    "        x = linspace(a,b,Ngrid)\n",
    "        #---------------> Plot\n",
    "        fig, ax = plt.subplots(ncols, dpi=100) #sharex=True, sharey=True, dpi=200)\n",
    "        #---------------> Data\n",
    "        ax.plot(x, Function(x), linewidth=1,)\n",
    "        if thickGraph ==\"y\":\n",
    "                ax.plot(x, Function(x), linewidth=3,)\n",
    "        if plotPoint ==\"y\":\n",
    "                ax.plot(px, pfx, 'bo')\n",
    "                #ax.annotate(px, pfx)\n",
    "        #---------------> Formatting\n",
    "        ax.set_ylim(y_lim1, y_lim2)\n",
    "        ax.set_xlim(x_lim1, x_lim2)\n",
    "\n",
    "        #ax.set(adjustable='box', aspect='equal')\n",
    "        ax.set_xlabel(xlabel, fontsize=20)\n",
    "        ax.set_ylabel(ylabel, fontsize=20)\n",
    "        fig.suptitle(title, fontsize=20)\n",
    "        fig.tight_layout()\n",
    "        #-------> Borders ## Have to run cell twice for this to work no idea why -- AO\n",
    "        if thickGraph == \"y\":\n",
    "                plt.rcParams[\"axes.edgecolor\"] = \"black\"\n",
    "                plt.rcParams[\"axes.linewidth\"] = 2.0\n",
    "                plt.xticks(fontsize=15)\n",
    "                plt.yticks(fontsize=15)\n",
    "                ax.xaxis.set_tick_params(width=2)\n",
    "                ax.yaxis.set_tick_params(width=2)"
   ]
  },
  {
   "cell_type": "code",
   "execution_count": 46,
   "metadata": {},
   "outputs": [
    {
     "data": {
      "image/png": "[encoded data removed]",
      "text/plain": [
       "<Figure size 640x480 with 1 Axes>"
      ]
     },
     "metadata": {},
     "output_type": "display_data"
    }
   ],
   "source": [
    "plotFunction(v_harm, -5, 5, 401, x_lim1=-6, x_lim2=6, y_lim1=-1, y_lim2=15, xlabel=\"postion\", ylabel=\"intensity\" ,title=\"Harmonic Oscillator Potential\", ncols=1)\n"
   ]
  },
  {
   "cell_type": "markdown",
   "metadata": {},
   "source": [
    "### Secant method for root finding"
   ]
  },
  {
   "cell_type": "code",
   "execution_count": 26,
   "metadata": {},
   "outputs": [],
   "source": [
    "def secant(x0,x1,fx0,fx1):\n",
    "    '''\n",
    "    the update process for the secant method\n",
    "    '''\n",
    "    return (x0*fx1-fx0*x1)/(fx1-fx0)\n",
    "\n",
    "def secant_method(x0,x1,func,criterion=1e-6,max_iter=100):\n",
    "    '''\n",
    "    Description: Based on the secant method page on wikipedia\n",
    "    takes the first two guesses at the correct root and a defined\n",
    "    function then run the secant method to find the root.\n",
    "    INPUT:\n",
    "        x0: Scalar\n",
    "            First guess at root value\n",
    "        x1: scalar\n",
    "            Second guess at root value\n",
    "        func: Scalar\n",
    "            Function to find root of\n",
    "    OUTPUT\n",
    "        x1: Scalar\n",
    "            Root value\n",
    "        fx1: Scalar\n",
    "            function evaluated at root value            \n",
    "    '''\n",
    "    \n",
    "    i = 0\n",
    "    \n",
    "    fx0 = func(x0)\n",
    "    fx1 = func(x1)\n",
    "    conv = abs(min([fx0,fx1]))\n",
    "    \n",
    "    while conv > criterion:\n",
    "        xt = secant(x0,x1,fx0,fx1)\n",
    "        \n",
    "        fx0 = fx1\n",
    "        x0 = x1\n",
    "        x1 = xt\n",
    "        fx1 = func(x1)\n",
    "        \n",
    "        conv = abs(fx1)\n",
    "        \n",
    "        if i > max_iter:\n",
    "            break\n",
    "        i += 1\n",
    "        \n",
    "    return x1,fx1"
   ]
  },
  {
   "cell_type": "markdown",
   "metadata": {},
   "source": [
    "#### Secant Method test"
   ]
  },
  {
   "cell_type": "code",
   "execution_count": 42,
   "metadata": {},
   "outputs": [
    {
     "name": "stdout",
     "output_type": "stream",
     "text": [
      "Point coordinates are: -1.7080391071060965e-07 , -1.7080391071060798e-07\n"
     ]
    },
    {
     "data": {
      "image/png": "[encoded data removed]",
      "text/plain": [
       "<Figure size 640x480 with 1 Axes>"
      ]
     },
     "metadata": {},
     "output_type": "display_data"
    }
   ],
   "source": [
    "x0,fx0 = secant_method(-2.5,3,np.tanh)\n",
    "print(\"Point coordinates are:\", x0,\",\", fx0)\n",
    "plotFunction(np.tanh, -10, 10, 101, y_lim1=-1.1, y_lim2=1.1, x_lim1=-10, x_lim2=10, plotPoint=\"y\", px=x0, pfx=fx0 )"
   ]
  },
  {
   "cell_type": "markdown",
   "metadata": {},
   "source": [
    "### Calculating Harmonic Oscillator or P.I.B. Eigenstates and Eigenvectors"
   ]
  },
  {
   "cell_type": "code",
   "execution_count": 79,
   "metadata": {},
   "outputs": [],
   "source": [
    "def Eigen_Solver(Sys, a, b, Nx, nk):\n",
    "    '''\n",
    "    Description: Solves for the eigenvalues and eigenvectors of either the H.O. or P.I.B.\n",
    "    Current Capabilities: Does all that it is desired\n",
    "    Goal: \n",
    "    Note: Need to define nk, pretty sure all values are correct\n",
    "    INPUT:\n",
    "        Sys: String\n",
    "            Determines if using Harmonic Oscillator or P.I.B. \n",
    "        a: Scalar\n",
    "            Left limit of linespace\n",
    "        b: scalar\n",
    "            Right limit of linespace\n",
    "        Nx: scalar\n",
    "            Number of points in linespace\n",
    "        nk: scalar\n",
    "            Number of kpoints??? Not sure what this is\n",
    "    OUTPUT\n",
    "        x1: Scalar\n",
    "            Root value\n",
    "        fx1: Scalar\n",
    "            function evaluated at root value            \n",
    "    '''\n",
    "    #-------> Set-Up\n",
    "    x = linspace(a, b, Nx)\n",
    "    if Sys == \"Harm\":\n",
    "        v_ext = v_harm(x)\n",
    "    if Sys == \"PIB\":\n",
    "        v_ext = np.zeros(Nx)\n",
    "    #-------> Diagonalization \n",
    "    dx = x[1]-x[0]\n",
    "    diag = (np.ones(Nx)/dx**2)\n",
    "    #print(diag)\n",
    "    diags = array([(v_ext+diag), (diag/2), (diag/2)])\n",
    "    #-------> Calculating Hamiltonian\n",
    "    H = spa.dia_matrix((diags,[0,-1,1]),shape=(Nx,Nx))\n",
    "    vals, vecs = eigsh(H,which='SA',k=nk)\n",
    "    vec_sum = np.trapz(vecs[:,0]**2,x)\n",
    "    norm = np.sqrt(1/vec_sum)\n",
    "    vecs = vecs*norm\n",
    "    return vals, vecs"
   ]
  },
  {
   "cell_type": "markdown",
   "metadata": {},
   "source": [
    "#### Solver Function test"
   ]
  },
  {
   "cell_type": "code",
   "execution_count": 80,
   "metadata": {},
   "outputs": [],
   "source": [
    "a, b, Nx, nk = -5, 5, 401, 100\n",
    "vals, vecs = Eigen_Solver(\"Harm\", a, b, Nx, nk)\n",
    "#print(vals)\n",
    "#print(vecs)"
   ]
  }
 ],
 "metadata": {
  "kernelspec": {
   "display_name": "n2venv",
   "language": "python",
   "name": "python3"
  },
  "language_info": {
   "codemirror_mode": {
    "name": "ipython",
    "version": 3
   },
   "file_extension": ".py",
   "mimetype": "text/x-python",
   "name": "python",
   "nbconvert_exporter": "python",
   "pygments_lexer": "ipython3",
   "version": "3.12.3"
  }
 },
 "nbformat": 4,
 "nbformat_minor": 2
}
