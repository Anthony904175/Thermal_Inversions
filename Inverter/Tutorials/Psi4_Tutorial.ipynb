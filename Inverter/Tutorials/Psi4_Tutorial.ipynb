{
 "cells": [
  {
   "cell_type": "markdown",
   "metadata": {},
   "source": [
    "# Psi4 tutorial for thermal inversions project"
   ]
  },
  {
   "cell_type": "markdown",
   "metadata": {},
   "source": [
    "### Everything is broken test script"
   ]
  },
  {
   "cell_type": "code",
   "execution_count": null,
   "metadata": {},
   "outputs": [],
   "source": [
    "import psi4\n",
    "\n",
    "# Set options within Psi4.\n",
    "psi4.set_options({\"save_jk\" : True})\n",
    "psi4.set_options({\"reference\" : \"rhf\"})\n",
    "psi4.set_memory(int(2.50e9))\n",
    "psi4.core.clean()\n",
    "\n",
    "# Define the molecule (Neon atom in this case).\n",
    "neon = psi4.geometry(\"\"\"\n",
    "0 1\n",
    "Ne 0.0 0.0 0.0\n",
    "noreorient\n",
    "nocom\n",
    "units bohr\n",
    "symmetry c1\n",
    "\"\"\")\n",
    "\n",
    "# Perform a Hartree-Fock (HF) calculation.\n",
    "e_hf = psi4.energy(\"hf/cc-pvtz\", molecule=neon)\n",
    "\n",
    "print(\"Hartree-Fock Energy:\", e_hf)\n"
   ]
  },
  {
   "cell_type": "markdown",
   "metadata": {},
   "source": [
    "## Imports"
   ]
  },
  {
   "cell_type": "code",
   "execution_count": 1,
   "metadata": {},
   "outputs": [],
   "source": [
    "import psi4"
   ]
  },
  {
   "cell_type": "markdown",
   "metadata": {},
   "source": [
    "### Running a Hartree Fock Calculation"
   ]
  },
  {
   "cell_type": "code",
   "execution_count": 4,
   "metadata": {},
   "outputs": [
    {
     "name": "stdout",
     "output_type": "stream",
     "text": [
      "\n",
      "  Memory set to 476.837 MiB by Python driver.\n",
      "\n",
      "Scratch directory: /tmp/\n",
      "   => Libint2 <=\n",
      "\n",
      "    Primary   basis highest AM E, G, H:  6, 6, 3\n",
      "    Auxiliary basis highest AM E, G, H:  7, 7, 4\n",
      "    Onebody   basis highest AM E, G, H:  -, -, -\n",
      "    Solid Harmonics ordering:            Gaussian\n",
      "\n",
      "*** tstart() called on APJGROUP-IMAC.local\n",
      "*** at Wed Jun 12 14:00:01 2024\n",
      "\n",
      "   => Loading Basis Set <=\n",
      "\n",
      "    Name: CC-PVDZ\n",
      "    Role: ORBITAL\n",
      "    Keyword: BASIS\n",
      "    atoms 1   entry O          line   198 file /opt/anaconda3/envs/n2venv/share/psi4/basis/cc-pvdz.gbs \n",
      "    atoms 2-3 entry H          line    22 file /opt/anaconda3/envs/n2venv/share/psi4/basis/cc-pvdz.gbs \n",
      "\n",
      "\n",
      "         ---------------------------------------------------------\n",
      "                                   SCF\n",
      "               by Justin Turney, Rob Parrish, Andy Simmonett\n",
      "                          and Daniel G. A. Smith\n",
      "                              RHF Reference\n",
      "                        1 Threads,    476 MiB Core\n",
      "         ---------------------------------------------------------\n",
      "\n",
      "  ==> Geometry <==\n",
      "\n",
      "    Molecular point group: c2v\n",
      "    Full point group: C2v\n",
      "\n",
      "    Geometry (in Angstrom), charge = 0, multiplicity = 1:\n",
      "\n",
      "       Center              X                  Y                   Z               Mass       \n",
      "    ------------   -----------------  -----------------  -----------------  -----------------\n",
      "         O            0.000000000000     0.000000000000    -0.065775570547    15.994914619570\n",
      "         H            0.000000000000    -0.759061990794     0.521953018286     1.007825032230\n",
      "         H            0.000000000000     0.759061990794     0.521953018286     1.007825032230\n",
      "\n",
      "  Running in c2v symmetry.\n",
      "\n",
      "  Rotational constants: A =     27.26297  B =     14.51533  C =      9.47217 [cm^-1]\n",
      "  Rotational constants: A = 817323.21126  B = 435158.60141  C = 283968.37536 [MHz]\n",
      "  Nuclear repulsion =    9.168193296424347\n",
      "\n",
      "  Charge       = 0\n",
      "  Multiplicity = 1\n",
      "  Electrons    = 10\n",
      "  Nalpha       = 5\n",
      "  Nbeta        = 5\n",
      "\n",
      "  ==> Algorithm <==\n",
      "\n",
      "  SCF Algorithm Type is DF.\n",
      "  DIIS enabled.\n",
      "  MOM disabled.\n",
      "  Fractional occupation disabled.\n",
      "  Guess Type is SAD.\n",
      "  Energy threshold   = 1.00e-06\n",
      "  Density threshold  = 1.00e-06\n",
      "  Integral threshold = 1.00e-12\n",
      "\n",
      "  ==> Primary Basis <==\n",
      "\n",
      "  Basis Set: CC-PVDZ\n",
      "    Blend: CC-PVDZ\n",
      "    Number of shells: 12\n",
      "    Number of basis functions: 24\n",
      "    Number of Cartesian functions: 25\n",
      "    Spherical Harmonics?: true\n",
      "    Max angular momentum: 2\n",
      "\n",
      "   => Loading Basis Set <=\n",
      "\n",
      "    Name: (CC-PVDZ AUX)\n",
      "    Role: JKFIT\n",
      "    Keyword: DF_BASIS_SCF\n",
      "    atoms 1   entry O          line   221 file /opt/anaconda3/envs/n2venv/share/psi4/basis/cc-pvdz-jkfit.gbs \n",
      "    atoms 2-3 entry H          line    51 file /opt/anaconda3/envs/n2venv/share/psi4/basis/cc-pvdz-jkfit.gbs \n",
      "\n",
      "  ==> Integral Setup <==\n",
      "\n",
      "  DFHelper Memory: AOs need 0.001 GiB; user supplied 0.349 GiB. \n",
      "  Using in-core AOs.\n",
      "\n",
      "  ==> MemDFJK: Density-Fitted J/K Matrices <==\n",
      "\n",
      "    J tasked:                   Yes\n",
      "    K tasked:                   Yes\n",
      "    wK tasked:                   No\n",
      "    OpenMP threads:               1\n",
      "    Memory [MiB]:               357\n",
      "    Algorithm:                 Core\n",
      "    Schwarz Cutoff:           1E-12\n",
      "    Mask sparsity (%):       0.0000\n",
      "    Fitting Condition:        1E-10\n",
      "\n",
      "   => Auxiliary Basis Set <=\n",
      "\n",
      "  Basis Set: (CC-PVDZ AUX)\n",
      "    Blend: CC-PVDZ-JKFIT\n",
      "    Number of shells: 42\n",
      "    Number of basis functions: 116\n",
      "    Number of Cartesian functions: 131\n",
      "    Spherical Harmonics?: true\n",
      "    Max angular momentum: 3\n",
      "\n"
     ]
    },
    {
     "ename": "RuntimeError",
     "evalue": "\nFatal Error: Timer HF: Form core H is already on.\nError occurred in file: /Users/runner/miniforge3/conda-bld/psi4_1709839991841/work/psi4/src/psi4/libqt/timer.cc on line: 280\nThe most recent 5 function calls were:\n\n",
     "output_type": "error",
     "traceback": [
      "\u001b[0;31m---------------------------------------------------------------------------\u001b[0m",
      "\u001b[0;31mRuntimeError\u001b[0m                              Traceback (most recent call last)",
      "Cell \u001b[0;32mIn[4], line 12\u001b[0m\n\u001b[1;32m      4\u001b[0m psi4\u001b[38;5;241m.\u001b[39mset_memory(\u001b[38;5;124m'\u001b[39m\u001b[38;5;124m500 MB\u001b[39m\u001b[38;5;124m'\u001b[39m)\n\u001b[1;32m      6\u001b[0m h2o \u001b[38;5;241m=\u001b[39m psi4\u001b[38;5;241m.\u001b[39mgeometry(\u001b[38;5;124m\"\"\"\u001b[39m\n\u001b[1;32m      7\u001b[0m \u001b[38;5;124mO\u001b[39m\n\u001b[1;32m      8\u001b[0m \u001b[38;5;124mH 1 0.96\u001b[39m\n\u001b[1;32m      9\u001b[0m \u001b[38;5;124mH 1 0.96 2 104.5\u001b[39m\n\u001b[1;32m     10\u001b[0m \u001b[38;5;124m\"\"\"\u001b[39m)\n\u001b[0;32m---> 12\u001b[0m \u001b[43mpsi4\u001b[49m\u001b[38;5;241;43m.\u001b[39;49m\u001b[43menergy\u001b[49m\u001b[43m(\u001b[49m\u001b[38;5;124;43m'\u001b[39;49m\u001b[38;5;124;43mscf/cc-pvdz\u001b[39;49m\u001b[38;5;124;43m'\u001b[39;49m\u001b[43m)\u001b[49m\n",
      "File \u001b[0;32m/opt/anaconda3/envs/n2venv/lib/python3.12/site-packages/psi4/driver/driver.py:525\u001b[0m, in \u001b[0;36menergy\u001b[0;34m(name, **kwargs)\u001b[0m\n\u001b[1;32m    523\u001b[0m logger\u001b[38;5;241m.\u001b[39minfo(\u001b[38;5;124mf\u001b[39m\u001b[38;5;124m\"\u001b[39m\u001b[38;5;124mCompute energy(): method=\u001b[39m\u001b[38;5;132;01m{\u001b[39;00mlowername\u001b[38;5;132;01m}\u001b[39;00m\u001b[38;5;124m, basis=\u001b[39m\u001b[38;5;132;01m{\u001b[39;00mcore\u001b[38;5;241m.\u001b[39mget_global_option(\u001b[38;5;124m'\u001b[39m\u001b[38;5;124mBASIS\u001b[39m\u001b[38;5;124m'\u001b[39m)\u001b[38;5;241m.\u001b[39mlower()\u001b[38;5;132;01m}\u001b[39;00m\u001b[38;5;124m, molecule=\u001b[39m\u001b[38;5;132;01m{\u001b[39;00mmolecule\u001b[38;5;241m.\u001b[39mname()\u001b[38;5;132;01m}\u001b[39;00m\u001b[38;5;124m, nre=\u001b[39m\u001b[38;5;132;01m{\u001b[39;00m\u001b[38;5;124m'\u001b[39m\u001b[38;5;124mw/EFP\u001b[39m\u001b[38;5;124m'\u001b[39m\u001b[38;5;250m \u001b[39m\u001b[38;5;28;01mif\u001b[39;00m\u001b[38;5;250m \u001b[39m\u001b[38;5;28mhasattr\u001b[39m(molecule,\u001b[38;5;250m \u001b[39m\u001b[38;5;124m'\u001b[39m\u001b[38;5;124mEFP\u001b[39m\u001b[38;5;124m'\u001b[39m)\u001b[38;5;250m \u001b[39m\u001b[38;5;28;01melse\u001b[39;00m\u001b[38;5;250m \u001b[39mmolecule\u001b[38;5;241m.\u001b[39mnuclear_repulsion_energy()\u001b[38;5;132;01m}\u001b[39;00m\u001b[38;5;124m\"\u001b[39m)\n\u001b[1;32m    524\u001b[0m logger\u001b[38;5;241m.\u001b[39mdebug(\u001b[38;5;124m\"\u001b[39m\u001b[38;5;124mw/EFP\u001b[39m\u001b[38;5;124m\"\u001b[39m \u001b[38;5;28;01mif\u001b[39;00m \u001b[38;5;28mhasattr\u001b[39m(molecule, \u001b[38;5;124m\"\u001b[39m\u001b[38;5;124mEFP\u001b[39m\u001b[38;5;124m\"\u001b[39m) \u001b[38;5;28;01melse\u001b[39;00m pp\u001b[38;5;241m.\u001b[39mpformat(molecule\u001b[38;5;241m.\u001b[39mto_dict()))\n\u001b[0;32m--> 525\u001b[0m wfn \u001b[38;5;241m=\u001b[39m \u001b[43mprocedures\u001b[49m\u001b[43m[\u001b[49m\u001b[38;5;124;43m'\u001b[39;49m\u001b[38;5;124;43menergy\u001b[39;49m\u001b[38;5;124;43m'\u001b[39;49m\u001b[43m]\u001b[49m\u001b[43m[\u001b[49m\u001b[43mlowername\u001b[49m\u001b[43m]\u001b[49m\u001b[43m(\u001b[49m\u001b[43mlowername\u001b[49m\u001b[43m,\u001b[49m\u001b[43m \u001b[49m\u001b[43mmolecule\u001b[49m\u001b[38;5;241;43m=\u001b[39;49m\u001b[43mmolecule\u001b[49m\u001b[43m,\u001b[49m\u001b[43m \u001b[49m\u001b[38;5;241;43m*\u001b[39;49m\u001b[38;5;241;43m*\u001b[39;49m\u001b[43mkwargs\u001b[49m\u001b[43m)\u001b[49m\n\u001b[1;32m    526\u001b[0m logger\u001b[38;5;241m.\u001b[39minfo(\u001b[38;5;124mf\u001b[39m\u001b[38;5;124m\"\u001b[39m\u001b[38;5;124mReturn energy(): \u001b[39m\u001b[38;5;132;01m{\u001b[39;00mcore\u001b[38;5;241m.\u001b[39mvariable(\u001b[38;5;124m'\u001b[39m\u001b[38;5;124mCURRENT ENERGY\u001b[39m\u001b[38;5;124m'\u001b[39m)\u001b[38;5;132;01m}\u001b[39;00m\u001b[38;5;124m\"\u001b[39m)\n\u001b[1;32m    528\u001b[0m \u001b[38;5;28;01mfor\u001b[39;00m postcallback \u001b[38;5;129;01min\u001b[39;00m hooks[\u001b[38;5;124m'\u001b[39m\u001b[38;5;124menergy\u001b[39m\u001b[38;5;124m'\u001b[39m][\u001b[38;5;124m'\u001b[39m\u001b[38;5;124mpost\u001b[39m\u001b[38;5;124m'\u001b[39m]:\n",
      "File \u001b[0;32m/opt/anaconda3/envs/n2venv/lib/python3.12/site-packages/psi4/driver/procrouting/proc.py:2588\u001b[0m, in \u001b[0;36mrun_scf\u001b[0;34m(name, **kwargs)\u001b[0m\n\u001b[1;32m   2585\u001b[0m \u001b[38;5;28;01mif\u001b[39;00m \u001b[38;5;129;01mnot\u001b[39;00m core\u001b[38;5;241m.\u001b[39mhas_global_option_changed(\u001b[38;5;124m'\u001b[39m\u001b[38;5;124mSCF_TYPE\u001b[39m\u001b[38;5;124m'\u001b[39m):\n\u001b[1;32m   2586\u001b[0m     core\u001b[38;5;241m.\u001b[39mset_global_option(\u001b[38;5;124m'\u001b[39m\u001b[38;5;124mSCF_TYPE\u001b[39m\u001b[38;5;124m'\u001b[39m, \u001b[38;5;124m'\u001b[39m\u001b[38;5;124mDF\u001b[39m\u001b[38;5;124m'\u001b[39m)\n\u001b[0;32m-> 2588\u001b[0m scf_wfn \u001b[38;5;241m=\u001b[39m \u001b[43mscf_helper\u001b[49m\u001b[43m(\u001b[49m\u001b[43mname\u001b[49m\u001b[43m,\u001b[49m\u001b[43m \u001b[49m\u001b[43mpost_scf\u001b[49m\u001b[38;5;241;43m=\u001b[39;49m\u001b[38;5;28;43;01mFalse\u001b[39;49;00m\u001b[43m,\u001b[49m\u001b[43m \u001b[49m\u001b[38;5;241;43m*\u001b[39;49m\u001b[38;5;241;43m*\u001b[39;49m\u001b[43mkwargs\u001b[49m\u001b[43m)\u001b[49m\n\u001b[1;32m   2589\u001b[0m returnvalue \u001b[38;5;241m=\u001b[39m scf_wfn\u001b[38;5;241m.\u001b[39menergy()\n\u001b[1;32m   2591\u001b[0m ssuper \u001b[38;5;241m=\u001b[39m scf_wfn\u001b[38;5;241m.\u001b[39mfunctional()\n",
      "File \u001b[0;32m/opt/anaconda3/envs/n2venv/lib/python3.12/site-packages/psi4/driver/procrouting/proc.py:1887\u001b[0m, in \u001b[0;36mscf_helper\u001b[0;34m(name, post_scf, **kwargs)\u001b[0m\n\u001b[1;32m   1879\u001b[0m     core\u001b[38;5;241m.\u001b[39mprint_out(\u001b[38;5;124mf\u001b[39m\u001b[38;5;124m\"\"\"\u001b[39m\u001b[38;5;124m Using potential file\u001b[39m\n\u001b[1;32m   1880\u001b[0m \u001b[38;5;124m                   \u001b[39m\u001b[38;5;132;01m{\u001b[39;00mpol_embed_options[\u001b[38;5;124m\"\u001b[39m\u001b[38;5;124mpotfile\u001b[39m\u001b[38;5;124m\"\u001b[39m]\u001b[38;5;132;01m}\u001b[39;00m\n\u001b[1;32m   1881\u001b[0m \u001b[38;5;124m                   for Polarizable Embedding calculation.\u001b[39m\u001b[38;5;130;01m\\n\u001b[39;00m\u001b[38;5;124m\"\"\"\u001b[39m)\n\u001b[1;32m   1882\u001b[0m     scf_wfn\u001b[38;5;241m.\u001b[39mpe_state \u001b[38;5;241m=\u001b[39m solvent\u001b[38;5;241m.\u001b[39mpol_embed\u001b[38;5;241m.\u001b[39mCppeInterface(\n\u001b[1;32m   1883\u001b[0m         molecule\u001b[38;5;241m=\u001b[39mscf_molecule, options\u001b[38;5;241m=\u001b[39mpol_embed_options,\n\u001b[1;32m   1884\u001b[0m         basisset\u001b[38;5;241m=\u001b[39mscf_wfn\u001b[38;5;241m.\u001b[39mbasisset()\n\u001b[1;32m   1885\u001b[0m     )\n\u001b[0;32m-> 1887\u001b[0m e_scf \u001b[38;5;241m=\u001b[39m \u001b[43mscf_wfn\u001b[49m\u001b[38;5;241;43m.\u001b[39;49m\u001b[43mcompute_energy\u001b[49m\u001b[43m(\u001b[49m\u001b[43m)\u001b[49m\n\u001b[1;32m   1888\u001b[0m \u001b[38;5;28;01mfor\u001b[39;00m obj \u001b[38;5;129;01min\u001b[39;00m [core, scf_wfn]:\n\u001b[1;32m   1889\u001b[0m     \u001b[38;5;66;03m# set_variable(\"SCF TOTAL ENERGY\")  # P::e SCF\u001b[39;00m\n\u001b[1;32m   1890\u001b[0m     \u001b[38;5;28;01mfor\u001b[39;00m pv \u001b[38;5;129;01min\u001b[39;00m [\u001b[38;5;124m\"\u001b[39m\u001b[38;5;124mSCF TOTAL ENERGY\u001b[39m\u001b[38;5;124m\"\u001b[39m, \u001b[38;5;124m\"\u001b[39m\u001b[38;5;124mCURRENT ENERGY\u001b[39m\u001b[38;5;124m\"\u001b[39m, \u001b[38;5;124m\"\u001b[39m\u001b[38;5;124mCURRENT REFERENCE ENERGY\u001b[39m\u001b[38;5;124m\"\u001b[39m]:\n",
      "File \u001b[0;32m/opt/anaconda3/envs/n2venv/lib/python3.12/site-packages/psi4/driver/procrouting/scf_proc/scf_iterator.py:82\u001b[0m, in \u001b[0;36mscf_compute_energy\u001b[0;34m(self)\u001b[0m\n\u001b[1;32m     80\u001b[0m     \u001b[38;5;28mself\u001b[39m\u001b[38;5;241m.\u001b[39minitialize_jk(\u001b[38;5;28mself\u001b[39m\u001b[38;5;241m.\u001b[39mmemory_jk_)\n\u001b[1;32m     81\u001b[0m \u001b[38;5;28;01melse\u001b[39;00m:\n\u001b[0;32m---> 82\u001b[0m     \u001b[38;5;28;43mself\u001b[39;49m\u001b[38;5;241;43m.\u001b[39;49m\u001b[43minitialize\u001b[49m\u001b[43m(\u001b[49m\u001b[43m)\u001b[49m\n\u001b[1;32m     83\u001b[0m \u001b[38;5;28mself\u001b[39m\u001b[38;5;241m.\u001b[39miteration_energies \u001b[38;5;241m=\u001b[39m []\n\u001b[1;32m     85\u001b[0m \u001b[38;5;28;01mtry\u001b[39;00m:\n",
      "File \u001b[0;32m/opt/anaconda3/envs/n2venv/lib/python3.12/site-packages/psi4/driver/procrouting/scf_proc/scf_iterator.py:196\u001b[0m, in \u001b[0;36mscf_initialize\u001b[0;34m(self)\u001b[0m\n\u001b[1;32m    194\u001b[0m \u001b[38;5;28;01mif\u001b[39;00m \u001b[38;5;28mself\u001b[39m\u001b[38;5;241m.\u001b[39mV_potential():\n\u001b[1;32m    195\u001b[0m     \u001b[38;5;28mself\u001b[39m\u001b[38;5;241m.\u001b[39mV_potential()\u001b[38;5;241m.\u001b[39mbuild_collocation_cache(\u001b[38;5;28mself\u001b[39m\u001b[38;5;241m.\u001b[39mmemory_collocation_)\n\u001b[0;32m--> 196\u001b[0m \u001b[43mcore\u001b[49m\u001b[38;5;241;43m.\u001b[39;49m\u001b[43mtimer_on\u001b[49m\u001b[43m(\u001b[49m\u001b[38;5;124;43m\"\u001b[39;49m\u001b[38;5;124;43mHF: Form core H\u001b[39;49m\u001b[38;5;124;43m\"\u001b[39;49m\u001b[43m)\u001b[49m\n\u001b[1;32m    197\u001b[0m \u001b[38;5;28mself\u001b[39m\u001b[38;5;241m.\u001b[39mform_H()\n\u001b[1;32m    198\u001b[0m core\u001b[38;5;241m.\u001b[39mtimer_off(\u001b[38;5;124m\"\u001b[39m\u001b[38;5;124mHF: Form core H\u001b[39m\u001b[38;5;124m\"\u001b[39m)\n",
      "\u001b[0;31mRuntimeError\u001b[0m: \nFatal Error: Timer HF: Form core H is already on.\nError occurred in file: /Users/runner/miniforge3/conda-bld/psi4_1709839991841/work/psi4/src/psi4/libqt/timer.cc on line: 280\nThe most recent 5 function calls were:\n\n"
     ]
    }
   ],
   "source": [
    "#psi4.set_output_file('output.dat', False)\n",
    "#! Sample HF/cc-pVDZ H2O Computation\n",
    "\n",
    "psi4.set_memory('500 MB')\n",
    "\n",
    "h2o = psi4.geometry(\"\"\"\n",
    "O\n",
    "H 1 0.96\n",
    "H 1 0.96 2 104.5\n",
    "\"\"\")\n",
    "\n",
    "psi4.energy('scf/cc-pvdz')"
   ]
  }
 ],
 "metadata": {
  "kernelspec": {
   "display_name": "n2venv",
   "language": "python",
   "name": "python3"
  },
  "language_info": {
   "codemirror_mode": {
    "name": "ipython",
    "version": 3
   },
   "file_extension": ".py",
   "mimetype": "text/x-python",
   "name": "python",
   "nbconvert_exporter": "python",
   "pygments_lexer": "ipython3",
   "version": "3.12.3"
  }
 },
 "nbformat": 4,
 "nbformat_minor": 2
}
